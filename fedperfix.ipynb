{
 "cells": [
  {
   "cell_type": "code",
   "execution_count": 2,
   "id": "72815a32",
   "metadata": {},
   "outputs": [],
   "source": [
    "# Install dependencies (if needed)\n",
    "# !pip install medmnist timm wandb ujson\n",
    "\n",
    "# Imports\n",
    "import os\n",
    "import numpy as np\n",
    "import torch\n",
    "from torch.utils.data import DataLoader, Dataset\n",
    "import torch.nn as nn\n",
    "import torch.nn.functional as F\n",
    "from sklearn.metrics import accuracy_score, roc_auc_score\n",
    "import matplotlib.pyplot as plt\n",
    "import ujson as json\n",
    "from tqdm import tqdm\n",
    "import random\n"
   ]
  },
  {
   "cell_type": "code",
   "execution_count": 3,
   "id": "4fa03918",
   "metadata": {},
   "outputs": [
    {
     "name": "stdout",
     "output_type": "stream",
     "text": [
      "Clients: 4 Classes: 11\n"
     ]
    }
   ],
   "source": [
    "# Load config\n",
    "with open(\"organamnist4/config.json\", 'r') as f:\n",
    "    config = json.load(f)\n",
    "\n",
    "num_clients = config[\"num_clients\"]\n",
    "num_classes = config[\"num_classes\"]\n",
    "print(\"Clients:\", num_clients, \"Classes:\", num_classes)\n"
   ]
  },
  {
   "cell_type": "code",
   "execution_count": 4,
   "id": "98d8621f",
   "metadata": {},
   "outputs": [],
   "source": [
    "class NpzClientDataset(Dataset):\n",
    "    def __init__(self, npz_file):\n",
    "        data = np.load(npz_file, allow_pickle=True)['data'].item()\n",
    "        self.x = torch.tensor(data['x']).float()\n",
    "        self.y = torch.tensor(data['y']).long()\n",
    "    def __len__(self):\n",
    "        return len(self.y)\n",
    "    def __getitem__(self, idx):\n",
    "        return self.x[idx], self.y[idx]\n"
   ]
  },
  {
   "cell_type": "code",
   "execution_count": 5,
   "id": "5cec796d",
   "metadata": {},
   "outputs": [
    {
     "name": "stdout",
     "output_type": "stream",
     "text": [
      "Data loading done ✅\n"
     ]
    }
   ],
   "source": [
    "client_train_loaders = []\n",
    "client_test_loaders = []\n",
    "\n",
    "for cid in range(num_clients):\n",
    "    train_dataset = NpzClientDataset(f\"organamnist4/train/{cid}.npz\")\n",
    "    test_dataset  = NpzClientDataset(f\"organamnist4/test/{cid}.npz\")\n",
    "    \n",
    "    train_loader = DataLoader(train_dataset, batch_size=16, shuffle=True)\n",
    "    test_loader  = DataLoader(test_dataset, batch_size=64, shuffle=False)\n",
    "\n",
    "    client_train_loaders.append(train_loader)\n",
    "    client_test_loaders.append(test_loader)\n",
    "\n",
    "print(\"Data loading done ✅\")\n"
   ]
  },
  {
   "cell_type": "code",
   "execution_count": 6,
   "id": "1eac9fd8",
   "metadata": {},
   "outputs": [],
   "source": [
    "import timm\n",
    "\n",
    "# Define a basic Vision Transformer\n",
    "def get_vit_model():\n",
    "    model = timm.create_model(\"vit_small_patch16_224\", pretrained=True)\n",
    "    model.head = nn.Linear(model.head.in_features, num_classes)  # Update for OrganAMNIST\n",
    "    return model\n"
   ]
  },
  {
   "cell_type": "code",
   "execution_count": 7,
   "id": "a2508e91",
   "metadata": {},
   "outputs": [],
   "source": [
    "class PrefixEncoder(nn.Module):\n",
    "    def __init__(self, prefix_length, embed_dim, num_layers):\n",
    "        super().__init__()\n",
    "        self.prefix_length = prefix_length\n",
    "        self.prefix_tokens = nn.Parameter(torch.randn(num_layers, prefix_length, embed_dim))\n",
    "    \n",
    "    def forward(self, B):\n",
    "        # repeat across batch dim\n",
    "        return self.prefix_tokens.unsqueeze(1).repeat(1, B, 1, 1)  # [layers, batch, prefix_len, dim]\n"
   ]
  },
  {
   "cell_type": "code",
   "execution_count": 8,
   "id": "0442f067",
   "metadata": {},
   "outputs": [],
   "source": [
    "class FedPerfixViT(nn.Module):\n",
    "    def __init__(self, base_model, prefix_length=5):\n",
    "        super().__init__()\n",
    "        self.base = base_model\n",
    "        self.prefix_len = prefix_length\n",
    "        self.embed_dim = base_model.blocks[0].attn.qkv.in_features\n",
    "        self.num_layers = len(base_model.blocks)\n",
    "\n",
    "        # Each client will own this part independently\n",
    "        self.prefix_encoder = PrefixEncoder(prefix_length, self.embed_dim, self.num_layers)\n",
    "\n",
    "    def forward(self, x, client_id=None):\n",
    "        B = x.size(0)\n",
    "        x = self.base.patch_embed(x)  # [B, num_patches, dim]\n",
    "        cls_token = self.base.cls_token.expand(B, -1, -1)\n",
    "        x = torch.cat((cls_token, x), dim=1)\n",
    "\n",
    "        x = self.base.pos_drop(x + self.base.pos_embed)\n",
    "\n",
    "        # Get per-layer prefix tokens\n",
    "        prefixes = self.prefix_encoder(B)  # [layers, B, prefix_len, dim]\n",
    "\n",
    "        # Apply transformer blocks + insert prefix\n",
    "        for i, blk in enumerate(self.base.blocks):\n",
    "            # Insert prefix at this layer\n",
    "            px = prefixes[i]  # [B, prefix_len, dim]\n",
    "            x = torch.cat([px, x], dim=1)\n",
    "            x = blk(x)\n",
    "\n",
    "        x = self.base.norm(x)\n",
    "        cls_output = x[:, self.prefix_len, :]  # use position after prefix\n",
    "        return self.base.head(cls_output)\n"
   ]
  },
  {
   "cell_type": "code",
   "execution_count": 9,
   "id": "282b59a9",
   "metadata": {},
   "outputs": [
    {
     "data": {
      "application/vnd.jupyter.widget-view+json": {
       "model_id": "4d0e556596644fcbba75ca9b04f43a6b",
       "version_major": 2,
       "version_minor": 0
      },
      "text/plain": [
       "model.safetensors:   0%|          | 0.00/88.2M [00:00<?, ?B/s]"
      ]
     },
     "metadata": {},
     "output_type": "display_data"
    }
   ],
   "source": [
    "prefix_len = 5\n",
    "client_models = []\n",
    "\n",
    "for cid in range(num_clients):\n",
    "    base = get_vit_model()\n",
    "    model = FedPerfixViT(base_model=base, prefix_length=prefix_len)\n",
    "    client_models.append(model)\n"
   ]
  },
  {
   "cell_type": "code",
   "execution_count": 10,
   "id": "89f7162f",
   "metadata": {},
   "outputs": [],
   "source": [
    "def freeze_base(model):\n",
    "    for name, param in model.named_parameters():\n",
    "        if not name.startswith(\"prefix_encoder\"):\n",
    "            param.requires_grad = False\n"
   ]
  },
  {
   "cell_type": "code",
   "execution_count": 11,
   "id": "336af09d",
   "metadata": {},
   "outputs": [],
   "source": [
    "for model in client_models:\n",
    "    freeze_base(model)"
   ]
  },
  {
   "cell_type": "code",
   "execution_count": 12,
   "id": "ea6da42a",
   "metadata": {},
   "outputs": [],
   "source": [
    "def local_train(model, train_loader, epochs=1, lr=0.001, device='cpu'):\n",
    "    model.to(device)\n",
    "    model.train()\n",
    "    \n",
    "    optimizer = torch.optim.Adam(model.prefix_encoder.parameters(), lr=lr)\n",
    "    criterion = nn.CrossEntropyLoss()\n",
    "\n",
    "    for epoch in range(epochs):\n",
    "        total_loss = 0\n",
    "        for x, y in train_loader:\n",
    "            x, y = x.to(device), y.to(device)\n",
    "\n",
    "            optimizer.zero_grad()\n",
    "            out = model(x)\n",
    "            loss = criterion(out, y)\n",
    "            loss.backward()\n",
    "            optimizer.step()\n",
    "\n",
    "            total_loss += loss.item()\n",
    "\n",
    "        avg_loss = total_loss / len(train_loader)\n",
    "        print(f\"Epoch {epoch+1} Loss: {avg_loss:.4f}\")\n"
   ]
  },
  {
   "cell_type": "code",
   "execution_count": 17,
   "id": "c47f71e7",
   "metadata": {},
   "outputs": [],
   "source": [
    "def test_model(model, test_loader, device='cpu'):\n",
    "    model.eval()\n",
    "    model.to(device)\n",
    "\n",
    "    all_preds = []\n",
    "    all_targets = []\n",
    "\n",
    "    with torch.no_grad():\n",
    "        for x, y in test_loader:\n",
    "            x, y = x.to(device), y.to(device)\n",
    "            logits = model(x)\n",
    "            preds = torch.argmax(logits, dim=1)\n",
    "            all_preds.extend(preds.cpu().numpy())\n",
    "            all_targets.extend(y.cpu().numpy())\n",
    "\n",
    "    acc = accuracy_score(all_targets, all_preds)\n",
    "    return acc*100\n"
   ]
  },
  {
   "cell_type": "code",
   "execution_count": 18,
   "id": "5c15cd7e",
   "metadata": {},
   "outputs": [
    {
     "name": "stdout",
     "output_type": "stream",
     "text": [
      "Before training: 23.4375\n",
      "Epoch 1 Loss: 2.2183\n",
      "Epoch 2 Loss: 2.0920\n",
      "After training: 35.9375\n"
     ]
    }
   ],
   "source": [
    "client_id = 0\n",
    "model = client_models[client_id]\n",
    "train_loader = client_train_loaders[client_id]\n",
    "test_loader = client_test_loaders[client_id]\n",
    "\n",
    "print(\"Before training:\", test_model(model, test_loader))\n",
    "local_train(model, train_loader, epochs=2, lr=0.001, device='cpu')\n",
    "print(\"After training:\", test_model(model, test_loader))\n"
   ]
  },
  {
   "cell_type": "code",
   "execution_count": 19,
   "id": "7a145a9e",
   "metadata": {},
   "outputs": [],
   "source": [
    "def get_base_state(model):\n",
    "    return {k: v.cpu().clone() for k, v in model.state_dict().items() if not k.startswith(\"prefix_encoder\")}"
   ]
  },
  {
   "cell_type": "code",
   "execution_count": 20,
   "id": "883edb10",
   "metadata": {},
   "outputs": [],
   "source": [
    "def fedavg(base_state_list):\n",
    "    avg_state = {}\n",
    "    num_clients = len(base_state_list)\n",
    "\n",
    "    for key in base_state_list[0].keys():\n",
    "        avg_state[key] = sum(client_state[key] for client_state in base_state_list) / num_clients\n",
    "\n",
    "    return avg_state\n"
   ]
  },
  {
   "cell_type": "code",
   "execution_count": 21,
   "id": "17052156",
   "metadata": {},
   "outputs": [],
   "source": [
    "def load_base_state(model, base_state):\n",
    "    model_state = model.state_dict()\n",
    "    for k in base_state.keys():\n",
    "        if k in model_state:\n",
    "            model_state[k] = base_state[k].clone()\n",
    "    model.load_state_dict(model_state)\n"
   ]
  },
  {
   "cell_type": "code",
   "execution_count": 22,
   "id": "68073f0e",
   "metadata": {},
   "outputs": [],
   "source": [
    "def fedperfix_train(num_rounds=3, local_epochs=1, lr=0.001, device='cpu'):\n",
    "    for rnd in range(num_rounds):\n",
    "        print(f\"\\n🌐 Round {rnd + 1}\")\n",
    "        base_state_list = []\n",
    "\n",
    "        # Local training per client\n",
    "        for cid in range(num_clients):\n",
    "            print(f\"\\nClient {cid} training...\")\n",
    "            model = client_models[cid]\n",
    "            local_train(model, client_train_loaders[cid], epochs=local_epochs, lr=lr, device=device)\n",
    "            base_state = get_base_state(model)\n",
    "            base_state_list.append(base_state)\n",
    "\n",
    "        # FedAvg across base models\n",
    "        print(\"\\n🔄 Aggregating shared base model...\")\n",
    "        avg_state = fedavg(base_state_list)\n",
    "\n",
    "        # Load shared base into all clients (prefix untouched)\n",
    "        for cid in range(num_clients):\n",
    "            load_base_state(client_models[cid], avg_state)\n",
    "\n",
    "        # Evaluation after round\n",
    "        round_accs = []\n",
    "        for cid in range(num_clients):\n",
    "            acc = test_model(client_models[cid], client_test_loaders[cid], device=device)\n",
    "            round_accs.append(acc)\n",
    "            print(f\"Client {cid} Test Acc: {acc:.2f}\")\n",
    "        \n",
    "        print(f\"📈 Round {rnd + 1} Average Accuracy: {np.mean(round_accs):.4f}\")\n"
   ]
  },
  {
   "cell_type": "code",
   "execution_count": 23,
   "id": "84e8c467",
   "metadata": {},
   "outputs": [
    {
     "name": "stdout",
     "output_type": "stream",
     "text": [
      "\n",
      "🌐 Round 1\n",
      "\n",
      "Client 0 training...\n",
      "Epoch 1 Loss: 1.9960\n",
      "\n",
      "Client 1 training...\n",
      "Epoch 1 Loss: 2.9728\n",
      "\n",
      "Client 2 training...\n",
      "Epoch 1 Loss: 2.8448\n",
      "\n",
      "Client 3 training...\n",
      "Epoch 1 Loss: 3.0856\n",
      "\n",
      "🔄 Aggregating shared base model...\n",
      "Client 0 Test Acc: 14.06\n",
      "Client 1 Test Acc: 2.44\n",
      "Client 2 Test Acc: 0.00\n",
      "Client 3 Test Acc: 32.84\n",
      "📈 Round 1 Average Accuracy: 12.3343\n",
      "\n",
      "🌐 Round 2\n",
      "\n",
      "Client 0 training...\n",
      "Epoch 1 Loss: 2.3972\n",
      "\n",
      "Client 1 training...\n",
      "Epoch 1 Loss: 2.5992\n",
      "\n",
      "Client 2 training...\n",
      "Epoch 1 Loss: 2.4225\n",
      "\n",
      "Client 3 training...\n",
      "Epoch 1 Loss: 2.3935\n",
      "\n",
      "🔄 Aggregating shared base model...\n",
      "Client 0 Test Acc: 18.75\n",
      "Client 1 Test Acc: 2.44\n",
      "Client 2 Test Acc: 0.00\n",
      "Client 3 Test Acc: 32.84\n",
      "📈 Round 2 Average Accuracy: 13.5062\n",
      "\n",
      "🌐 Round 3\n",
      "\n",
      "Client 0 training...\n",
      "Epoch 1 Loss: 2.2963\n",
      "\n",
      "Client 1 training...\n",
      "Epoch 1 Loss: 2.5322\n",
      "\n",
      "Client 2 training...\n",
      "Epoch 1 Loss: 2.3138\n",
      "\n",
      "Client 3 training...\n",
      "Epoch 1 Loss: 2.2902\n",
      "\n",
      "🔄 Aggregating shared base model...\n",
      "Client 0 Test Acc: 28.12\n",
      "Client 1 Test Acc: 2.44\n",
      "Client 2 Test Acc: 18.75\n",
      "Client 3 Test Acc: 32.84\n",
      "📈 Round 3 Average Accuracy: 20.5375\n"
     ]
    }
   ],
   "source": [
    "fedperfix_train(num_rounds=3, local_epochs=1, lr=0.001, device='cpu')"
   ]
  },
  {
   "cell_type": "code",
   "execution_count": 25,
   "id": "d648731e",
   "metadata": {},
   "outputs": [],
   "source": [
    "def fedperfix_train(num_rounds=3, local_epochs=1, lr=0.001, device='cpu'):\n",
    "    history = {\n",
    "        'rounds': [],\n",
    "        'client_accs': [],  # list of lists\n",
    "        'avg_accs': []\n",
    "    }\n",
    "\n",
    "    for rnd in range(num_rounds):\n",
    "        print(f\"\\n🌐 Round {rnd + 1}\")\n",
    "        base_state_list = []\n",
    "\n",
    "        # Local training\n",
    "        for cid in range(num_clients):\n",
    "            print(f\"\\nClient {cid} training...\")\n",
    "            model = client_models[cid]\n",
    "            local_train(model, client_train_loaders[cid], epochs=local_epochs, lr=lr, device=device)\n",
    "            base_state = get_base_state(model)\n",
    "            base_state_list.append(base_state)\n",
    "\n",
    "        # Aggregation\n",
    "        avg_state = fedavg(base_state_list)\n",
    "        for cid in range(num_clients):\n",
    "            load_base_state(client_models[cid], avg_state)\n",
    "\n",
    "        # Evaluation\n",
    "        round_accs = []\n",
    "        for cid in range(num_clients):\n",
    "            acc = test_model(client_models[cid], client_test_loaders[cid], device=device)\n",
    "            round_accs.append(acc)\n",
    "            print(f\"Client {cid} Test Acc: {acc:.4f}\")\n",
    "\n",
    "        avg_acc = np.mean(round_accs)\n",
    "        print(f\"📈 Round {rnd + 1} Avg Accuracy: {avg_acc:.4f}\")\n",
    "\n",
    "        # Save history\n",
    "        history['rounds'].append(rnd + 1)\n",
    "        history['client_accs'].append(round_accs)\n",
    "        history['avg_accs'].append(avg_acc)\n",
    "\n",
    "    return history\n"
   ]
  },
  {
   "cell_type": "code",
   "execution_count": 26,
   "id": "c079ad9c",
   "metadata": {},
   "outputs": [
    {
     "name": "stdout",
     "output_type": "stream",
     "text": [
      "\n",
      "🌐 Round 1\n",
      "\n",
      "Client 0 training...\n",
      "Epoch 1 Loss: 2.2053\n",
      "\n",
      "Client 1 training...\n",
      "Epoch 1 Loss: 2.4421\n",
      "\n",
      "Client 2 training...\n",
      "Epoch 1 Loss: 2.2260\n",
      "\n",
      "Client 3 training...\n",
      "Epoch 1 Loss: 2.1554\n",
      "Client 0 Test Acc: 43.7500\n",
      "Client 1 Test Acc: 2.4390\n",
      "Client 2 Test Acc: 27.5000\n",
      "Client 3 Test Acc: 32.8358\n",
      "📈 Round 1 Avg Accuracy: 26.6312\n",
      "\n",
      "🌐 Round 2\n",
      "\n",
      "Client 0 training...\n",
      "Epoch 1 Loss: 2.1264\n",
      "\n",
      "Client 1 training...\n",
      "Epoch 1 Loss: 2.3781\n",
      "\n",
      "Client 2 training...\n",
      "Epoch 1 Loss: 2.1519\n",
      "\n",
      "Client 3 training...\n",
      "Epoch 1 Loss: 2.0495\n",
      "Client 0 Test Acc: 40.6250\n",
      "Client 1 Test Acc: 14.6341\n",
      "Client 2 Test Acc: 27.5000\n",
      "Client 3 Test Acc: 32.8358\n",
      "📈 Round 2 Avg Accuracy: 28.8987\n",
      "\n",
      "🌐 Round 3\n",
      "\n",
      "Client 0 training...\n",
      "Epoch 1 Loss: 2.0498\n",
      "\n",
      "Client 1 training...\n",
      "Epoch 1 Loss: 2.3266\n",
      "\n",
      "Client 2 training...\n",
      "Epoch 1 Loss: 2.0825\n",
      "\n",
      "Client 3 training...\n",
      "Epoch 1 Loss: 1.9851\n",
      "Client 0 Test Acc: 39.0625\n",
      "Client 1 Test Acc: 51.2195\n",
      "Client 2 Test Acc: 28.7500\n",
      "Client 3 Test Acc: 32.8358\n",
      "📈 Round 3 Avg Accuracy: 37.9670\n"
     ]
    }
   ],
   "source": [
    "history = fedperfix_train(num_rounds=3, local_epochs=1, lr=0.001, device='cpu')"
   ]
  },
  {
   "cell_type": "code",
   "execution_count": 27,
   "id": "285c23c0",
   "metadata": {},
   "outputs": [
    {
     "data": {
      "image/png": "[encoded data removed]",
      "text/plain": [
       "<Figure size 800x500 with 1 Axes>"
      ]
     },
     "metadata": {},
     "output_type": "display_data"
    }
   ],
   "source": [
    "plt.figure(figsize=(8, 5))\n",
    "plt.plot(history['rounds'], history['avg_accs'], marker='o', color='blue')\n",
    "plt.title(\"Average Test Accuracy per Round\")\n",
    "plt.xlabel(\"Round\")\n",
    "plt.ylabel(\"Average Accuracy\")\n",
    "plt.grid(True)\n",
    "plt.show()"
   ]
  },
  {
   "cell_type": "code",
   "execution_count": 28,
   "id": "9c5b78ba",
   "metadata": {},
   "outputs": [
    {
     "data": {
      "image/png": "[encoded data removed]",
      "text/plain": [
       "<Figure size 1000x600 with 1 Axes>"
      ]
     },
     "metadata": {},
     "output_type": "display_data"
    }
   ],
   "source": [
    "plt.figure(figsize=(10, 6))\n",
    "for cid in range(num_clients):\n",
    "    client_acc = [r[cid] for r in history['client_accs']]\n",
    "    plt.plot(history['rounds'], client_acc, marker='o', label=f'Client {cid}')\n",
    "\n",
    "plt.title(\"Client-wise Test Accuracy per Round\")\n",
    "plt.xlabel(\"Round\")\n",
    "plt.ylabel(\"Accuracy\")\n",
    "plt.legend()\n",
    "plt.grid(True)\n",
    "plt.show()\n"
   ]
  },
  {
   "cell_type": "code",
   "execution_count": null,
   "id": "6e9bcf9c",
   "metadata": {},
   "outputs": [],
   "source": []
  }
 ],
 "metadata": {
  "kernelspec": {
   "display_name": "Python 3",
   "language": "python",
   "name": "python3"
  },
  "language_info": {
   "codemirror_mode": {
    "name": "ipython",
    "version": 3
   },
   "file_extension": ".py",
   "mimetype": "text/x-python",
   "name": "python",
   "nbconvert_exporter": "python",
   "pygments_lexer": "ipython3",
   "version": "3.10.17"
  }
 },
 "nbformat": 4,
 "nbformat_minor": 5
}
